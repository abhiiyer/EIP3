{
  "nbformat": 4,
  "nbformat_minor": 0,
  "metadata": {
    "colab": {
      "name": "Session2_Phase2.ipynb",
      "version": "0.3.2",
      "provenance": [],
      "collapsed_sections": [],
      "include_colab_link": true
    },
    "kernelspec": {
      "name": "python3",
      "display_name": "Python 3"
    },
    "accelerator": "GPU"
  },
  "cells": [
    {
      "cell_type": "markdown",
      "metadata": {
        "id": "view-in-github",
        "colab_type": "text"
      },
      "source": [
        "<a href=\"https://colab.research.google.com/github/abhiiyer/EIP3/blob/master/Assignment-6/Session2_Phase2.ipynb\" target=\"_parent\"><img src=\"https://colab.research.google.com/assets/colab-badge.svg\" alt=\"Open In Colab\"/></a>"
      ]
    },
    {
      "cell_type": "code",
      "metadata": {
        "id": "C9eA7tr68A1s",
        "colab_type": "code",
        "outputId": "2c56298e-ed77-4836-bccf-3fa1a6b51620",
        "colab": {
          "base_uri": "https://localhost:8080/",
          "height": 121
        }
      },
      "source": [
        "from google.colab import drive\n",
        "drive.mount('/content/drive')"
      ],
      "execution_count": 1,
      "outputs": [
        {
          "output_type": "stream",
          "text": [
            "Go to this URL in a browser: https://accounts.google.com/o/oauth2/auth?client_id=947318989803-6bn6qk8qdgf4n4g3pfee6491hc0brc4i.apps.googleusercontent.com&redirect_uri=urn%3Aietf%3Awg%3Aoauth%3A2.0%3Aoob&scope=email%20https%3A%2F%2Fwww.googleapis.com%2Fauth%2Fdocs.test%20https%3A%2F%2Fwww.googleapis.com%2Fauth%2Fdrive%20https%3A%2F%2Fwww.googleapis.com%2Fauth%2Fdrive.photos.readonly%20https%3A%2F%2Fwww.googleapis.com%2Fauth%2Fpeopleapi.readonly&response_type=code\n",
            "\n",
            "Enter your authorization code:\n",
            "··········\n",
            "Mounted at /content/drive\n"
          ],
          "name": "stdout"
        }
      ]
    },
    {
      "cell_type": "code",
      "metadata": {
        "id": "1pJ8o4tn82D_",
        "colab_type": "code",
        "outputId": "881f10c4-da21-44f1-d659-b78e3b5ece2b",
        "colab": {
          "base_uri": "https://localhost:8080/",
          "height": 34
        }
      },
      "source": [
        "# Load Larger LSTM network and generate text\n",
        "import sys\n",
        "import numpy\n",
        "from keras.models import Sequential\n",
        "from keras.layers import Dense\n",
        "from keras.layers import Dropout\n",
        "from keras.layers import LSTM\n",
        "from keras.callbacks import ModelCheckpoint\n",
        "from keras.utils import np_utils\n",
        "import string\n",
        "import requests"
      ],
      "execution_count": 2,
      "outputs": [
        {
          "output_type": "stream",
          "text": [
            "Using TensorFlow backend.\n"
          ],
          "name": "stderr"
        }
      ]
    },
    {
      "cell_type": "code",
      "metadata": {
        "id": "lthQw_j48fJB",
        "colab_type": "code",
        "outputId": "b61ed537-db2c-48ad-f804-a40b24308cfb",
        "colab": {
          "base_uri": "https://localhost:8080/",
          "height": 34
        }
      },
      "source": [
        "link = \"http://www.gutenberg.org/cache/epub/11/pg11.txt\"\n",
        "r = requests.get(link, allow_redirects=True)\n",
        "open('wonderland.txt', 'wb').write(r.content)"
      ],
      "execution_count": 3,
      "outputs": [
        {
          "output_type": "execute_result",
          "data": {
            "text/plain": [
              "167518"
            ]
          },
          "metadata": {
            "tags": []
          },
          "execution_count": 3
        }
      ]
    },
    {
      "cell_type": "code",
      "metadata": {
        "id": "u8tlbKlw8zg8",
        "colab_type": "code",
        "outputId": "044c36af-cde1-4837-df40-55b4eaaeccb8",
        "colab": {
          "base_uri": "https://localhost:8080/",
          "height": 50
        }
      },
      "source": [
        "# load ascii text and covert to lowercase\n",
        "filename = \"wonderland.txt\"\n",
        "raw_text = open(filename).read()\n",
        "raw_text = raw_text.lower()\n",
        "\n",
        "raw_text = raw_text.translate(str.maketrans('','',string.punctuation))\n",
        "raw_text = raw_text.translate(str.maketrans(\"\\n\",' ',string.punctuation))\n",
        "raw_text = raw_text[1:]\n",
        "\n",
        "# create mapping of unique chars to integers, and a reverse mapping\n",
        "chars = sorted(list(set(raw_text)))\n",
        "char_to_int = dict((c, i) for i, c in enumerate(chars))\n",
        "int_to_char = dict((i, c) for i, c in enumerate(chars))\n",
        "\n",
        "# summarize the loaded data\n",
        "n_chars = len(raw_text)\n",
        "n_vocab = len(chars)\n",
        "print( \"Total Characters: \", n_chars)\n",
        "print (\"Total Vocab: \", n_vocab)\n"
      ],
      "execution_count": 4,
      "outputs": [
        {
          "output_type": "stream",
          "text": [
            "Total Characters:  154860\n",
            "Total Vocab:  37\n"
          ],
          "name": "stdout"
        }
      ]
    },
    {
      "cell_type": "code",
      "metadata": {
        "id": "FaxskCs-9JUK",
        "colab_type": "code",
        "outputId": "01a56b66-4bcc-4e83-87d1-14ef2869e42b",
        "colab": {
          "base_uri": "https://localhost:8080/",
          "height": 34
        }
      },
      "source": [
        "# prepare the dataset of input to output pairs encoded as integers\n",
        "seq_length = 50\n",
        "dataX = []\n",
        "dataY = []\n",
        "for i in range(0, n_chars - seq_length, 1):\n",
        "\tseq_in = raw_text[i:i + seq_length]\n",
        "\tseq_out = raw_text[i + seq_length]\n",
        "\tdataX.append([char_to_int[char] for char in seq_in])\n",
        "\tdataY.append(char_to_int[seq_out])\n",
        "n_patterns = len(dataX)\n",
        "print (\"Total Patterns: \", n_patterns)"
      ],
      "execution_count": 5,
      "outputs": [
        {
          "output_type": "stream",
          "text": [
            "Total Patterns:  154810\n"
          ],
          "name": "stdout"
        }
      ]
    },
    {
      "cell_type": "code",
      "metadata": {
        "id": "bCI5Ts0K9LgT",
        "colab_type": "code",
        "colab": {}
      },
      "source": [
        "# reshape X to be [samples, time steps, features]\n",
        "X = numpy.reshape(dataX, (n_patterns, seq_length, 1))\n",
        "# normalize\n",
        "X = X / float(n_vocab)\n",
        "# one hot encode the output variable\n",
        "y = np_utils.to_categorical(dataY)"
      ],
      "execution_count": 0,
      "outputs": []
    },
    {
      "cell_type": "code",
      "metadata": {
        "id": "1s29r6bW9Rqz",
        "colab_type": "code",
        "outputId": "5eb80964-ceb6-4280-fd10-a0f6717b8c26",
        "colab": {
          "base_uri": "https://localhost:8080/",
          "height": 490
        }
      },
      "source": [
        "# define the LSTM model\n",
        "model = Sequential()\n",
        "model.add(LSTM(128, input_shape=(X.shape[1], X.shape[2]), return_sequences=True))\n",
        "model.add(Dropout(0.1))\n",
        "model.add(LSTM(128))\n",
        "model.add(Dense(y.shape[1], activation='softmax'))\n",
        "\n",
        "model.summary()"
      ],
      "execution_count": 7,
      "outputs": [
        {
          "output_type": "stream",
          "text": [
            "WARNING: Logging before flag parsing goes to stderr.\n",
            "W0817 14:16:26.009867 140036626319232 deprecation_wrapper.py:119] From /usr/local/lib/python3.6/dist-packages/keras/backend/tensorflow_backend.py:74: The name tf.get_default_graph is deprecated. Please use tf.compat.v1.get_default_graph instead.\n",
            "\n",
            "W0817 14:16:26.055057 140036626319232 deprecation_wrapper.py:119] From /usr/local/lib/python3.6/dist-packages/keras/backend/tensorflow_backend.py:517: The name tf.placeholder is deprecated. Please use tf.compat.v1.placeholder instead.\n",
            "\n",
            "W0817 14:16:26.062661 140036626319232 deprecation_wrapper.py:119] From /usr/local/lib/python3.6/dist-packages/keras/backend/tensorflow_backend.py:4138: The name tf.random_uniform is deprecated. Please use tf.random.uniform instead.\n",
            "\n",
            "W0817 14:16:26.412914 140036626319232 deprecation_wrapper.py:119] From /usr/local/lib/python3.6/dist-packages/keras/backend/tensorflow_backend.py:133: The name tf.placeholder_with_default is deprecated. Please use tf.compat.v1.placeholder_with_default instead.\n",
            "\n",
            "W0817 14:16:26.427126 140036626319232 deprecation.py:506] From /usr/local/lib/python3.6/dist-packages/keras/backend/tensorflow_backend.py:3445: calling dropout (from tensorflow.python.ops.nn_ops) with keep_prob is deprecated and will be removed in a future version.\n",
            "Instructions for updating:\n",
            "Please use `rate` instead of `keep_prob`. Rate should be set to `rate = 1 - keep_prob`.\n"
          ],
          "name": "stderr"
        },
        {
          "output_type": "stream",
          "text": [
            "_________________________________________________________________\n",
            "Layer (type)                 Output Shape              Param #   \n",
            "=================================================================\n",
            "lstm_1 (LSTM)                (None, 50, 128)           66560     \n",
            "_________________________________________________________________\n",
            "dropout_1 (Dropout)          (None, 50, 128)           0         \n",
            "_________________________________________________________________\n",
            "lstm_2 (LSTM)                (None, 128)               131584    \n",
            "_________________________________________________________________\n",
            "dense_1 (Dense)              (None, 37)                4773      \n",
            "=================================================================\n",
            "Total params: 202,917\n",
            "Trainable params: 202,917\n",
            "Non-trainable params: 0\n",
            "_________________________________________________________________\n"
          ],
          "name": "stdout"
        }
      ]
    },
    {
      "cell_type": "code",
      "metadata": {
        "id": "iYzuK5UX9TRG",
        "colab_type": "code",
        "outputId": "b8a767ae-7a6e-47d7-ed4f-9bf88020a4a6",
        "colab": {
          "base_uri": "https://localhost:8080/",
          "height": 1000
        }
      },
      "source": [
        "model.compile(loss='categorical_crossentropy', optimizer='adam')\n",
        "# define the checkpoint\n",
        "filepath=\"weights-improvement-{epoch:02d}-{loss:.4f}-bigger.hdf5\"\n",
        "checkpoint = ModelCheckpoint(filepath, monitor='loss', verbose=1, save_best_only=True, mode='min')\n",
        "callbacks_list = [checkpoint]\n",
        "# fit the model\n",
        "model.fit(X, y, epochs=100, batch_size=256, callbacks=callbacks_list, verbose=1)"
      ],
      "execution_count": 8,
      "outputs": [
        {
          "output_type": "stream",
          "text": [
            "W0817 14:16:26.763658 140036626319232 deprecation_wrapper.py:119] From /usr/local/lib/python3.6/dist-packages/keras/optimizers.py:790: The name tf.train.Optimizer is deprecated. Please use tf.compat.v1.train.Optimizer instead.\n",
            "\n",
            "W0817 14:16:26.805314 140036626319232 deprecation_wrapper.py:119] From /usr/local/lib/python3.6/dist-packages/keras/backend/tensorflow_backend.py:3295: The name tf.log is deprecated. Please use tf.math.log instead.\n",
            "\n",
            "W0817 14:16:26.987336 140036626319232 deprecation.py:323] From /usr/local/lib/python3.6/dist-packages/tensorflow/python/ops/math_grad.py:1250: add_dispatch_support.<locals>.wrapper (from tensorflow.python.ops.array_ops) is deprecated and will be removed in a future version.\n",
            "Instructions for updating:\n",
            "Use tf.where in 2.0, which has the same broadcast rule as np.where\n"
          ],
          "name": "stderr"
        },
        {
          "output_type": "stream",
          "text": [
            "Epoch 1/100\n",
            "154810/154810 [==============================] - 131s 847us/step - loss: 2.7842\n",
            "\n",
            "Epoch 00001: loss improved from inf to 2.78422, saving model to weights-improvement-01-2.7842-bigger.hdf5\n",
            "Epoch 2/100\n",
            "154810/154810 [==============================] - 126s 814us/step - loss: 2.5472\n",
            "\n",
            "Epoch 00002: loss improved from 2.78422 to 2.54717, saving model to weights-improvement-02-2.5472-bigger.hdf5\n",
            "Epoch 3/100\n",
            "154810/154810 [==============================] - 125s 811us/step - loss: 2.4432\n",
            "\n",
            "Epoch 00003: loss improved from 2.54717 to 2.44322, saving model to weights-improvement-03-2.4432-bigger.hdf5\n",
            "Epoch 4/100\n",
            "154810/154810 [==============================] - 125s 810us/step - loss: 2.3553\n",
            "\n",
            "Epoch 00004: loss improved from 2.44322 to 2.35529, saving model to weights-improvement-04-2.3553-bigger.hdf5\n",
            "Epoch 5/100\n",
            "154810/154810 [==============================] - 125s 805us/step - loss: 2.2706\n",
            "\n",
            "Epoch 00005: loss improved from 2.35529 to 2.27058, saving model to weights-improvement-05-2.2706-bigger.hdf5\n",
            "Epoch 6/100\n",
            "154810/154810 [==============================] - 125s 806us/step - loss: 2.1966\n",
            "\n",
            "Epoch 00006: loss improved from 2.27058 to 2.19661, saving model to weights-improvement-06-2.1966-bigger.hdf5\n",
            "Epoch 7/100\n",
            "154810/154810 [==============================] - 125s 806us/step - loss: 2.1328\n",
            "\n",
            "Epoch 00007: loss improved from 2.19661 to 2.13277, saving model to weights-improvement-07-2.1328-bigger.hdf5\n",
            "Epoch 8/100\n",
            "154810/154810 [==============================] - 124s 804us/step - loss: 2.0786\n",
            "\n",
            "Epoch 00008: loss improved from 2.13277 to 2.07863, saving model to weights-improvement-08-2.0786-bigger.hdf5\n",
            "Epoch 9/100\n",
            "154810/154810 [==============================] - 125s 808us/step - loss: 2.0310\n",
            "\n",
            "Epoch 00009: loss improved from 2.07863 to 2.03099, saving model to weights-improvement-09-2.0310-bigger.hdf5\n",
            "Epoch 10/100\n",
            "154810/154810 [==============================] - 124s 804us/step - loss: 1.9894\n",
            "\n",
            "Epoch 00010: loss improved from 2.03099 to 1.98939, saving model to weights-improvement-10-1.9894-bigger.hdf5\n",
            "Epoch 11/100\n",
            "154810/154810 [==============================] - 125s 805us/step - loss: 1.9516\n",
            "\n",
            "Epoch 00011: loss improved from 1.98939 to 1.95164, saving model to weights-improvement-11-1.9516-bigger.hdf5\n",
            "Epoch 12/100\n",
            "154810/154810 [==============================] - 125s 804us/step - loss: 1.9214\n",
            "\n",
            "Epoch 00012: loss improved from 1.95164 to 1.92142, saving model to weights-improvement-12-1.9214-bigger.hdf5\n",
            "Epoch 13/100\n",
            "154810/154810 [==============================] - 124s 803us/step - loss: 1.8896\n",
            "\n",
            "Epoch 00013: loss improved from 1.92142 to 1.88965, saving model to weights-improvement-13-1.8896-bigger.hdf5\n",
            "Epoch 14/100\n",
            "154810/154810 [==============================] - 125s 806us/step - loss: 1.8602\n",
            "\n",
            "Epoch 00014: loss improved from 1.88965 to 1.86021, saving model to weights-improvement-14-1.8602-bigger.hdf5\n",
            "Epoch 15/100\n",
            "154810/154810 [==============================] - 125s 807us/step - loss: 1.8345\n",
            "\n",
            "Epoch 00015: loss improved from 1.86021 to 1.83452, saving model to weights-improvement-15-1.8345-bigger.hdf5\n",
            "Epoch 16/100\n",
            "154810/154810 [==============================] - 125s 808us/step - loss: 1.8100\n",
            "\n",
            "Epoch 00016: loss improved from 1.83452 to 1.80996, saving model to weights-improvement-16-1.8100-bigger.hdf5\n",
            "Epoch 17/100\n",
            "154810/154810 [==============================] - 125s 806us/step - loss: 1.7849\n",
            "\n",
            "Epoch 00017: loss improved from 1.80996 to 1.78490, saving model to weights-improvement-17-1.7849-bigger.hdf5\n",
            "Epoch 18/100\n",
            "154810/154810 [==============================] - 125s 806us/step - loss: 1.7644\n",
            "\n",
            "Epoch 00018: loss improved from 1.78490 to 1.76436, saving model to weights-improvement-18-1.7644-bigger.hdf5\n",
            "Epoch 19/100\n",
            "154810/154810 [==============================] - 125s 808us/step - loss: 1.7447\n",
            "\n",
            "Epoch 00019: loss improved from 1.76436 to 1.74466, saving model to weights-improvement-19-1.7447-bigger.hdf5\n",
            "Epoch 20/100\n",
            "154810/154810 [==============================] - 125s 806us/step - loss: 1.7258\n",
            "\n",
            "Epoch 00020: loss improved from 1.74466 to 1.72580, saving model to weights-improvement-20-1.7258-bigger.hdf5\n",
            "Epoch 21/100\n",
            "154810/154810 [==============================] - 125s 806us/step - loss: 1.7098\n",
            "\n",
            "Epoch 00021: loss improved from 1.72580 to 1.70976, saving model to weights-improvement-21-1.7098-bigger.hdf5\n",
            "Epoch 22/100\n",
            "154810/154810 [==============================] - 125s 808us/step - loss: 1.6909\n",
            "\n",
            "Epoch 00022: loss improved from 1.70976 to 1.69086, saving model to weights-improvement-22-1.6909-bigger.hdf5\n",
            "Epoch 23/100\n",
            "154810/154810 [==============================] - 125s 808us/step - loss: 1.6745\n",
            "\n",
            "Epoch 00023: loss improved from 1.69086 to 1.67454, saving model to weights-improvement-23-1.6745-bigger.hdf5\n",
            "Epoch 24/100\n",
            "154810/154810 [==============================] - 125s 808us/step - loss: 1.6617\n",
            "\n",
            "Epoch 00024: loss improved from 1.67454 to 1.66167, saving model to weights-improvement-24-1.6617-bigger.hdf5\n",
            "Epoch 25/100\n",
            "154810/154810 [==============================] - 125s 806us/step - loss: 1.6430\n",
            "\n",
            "Epoch 00025: loss improved from 1.66167 to 1.64300, saving model to weights-improvement-25-1.6430-bigger.hdf5\n",
            "Epoch 26/100\n",
            "154810/154810 [==============================] - 125s 804us/step - loss: 1.6299\n",
            "\n",
            "Epoch 00026: loss improved from 1.64300 to 1.62994, saving model to weights-improvement-26-1.6299-bigger.hdf5\n",
            "Epoch 27/100\n",
            "154810/154810 [==============================] - 124s 803us/step - loss: 1.6161\n",
            "\n",
            "Epoch 00027: loss improved from 1.62994 to 1.61609, saving model to weights-improvement-27-1.6161-bigger.hdf5\n",
            "Epoch 28/100\n",
            "154810/154810 [==============================] - 124s 803us/step - loss: 1.6051\n",
            "\n",
            "Epoch 00028: loss improved from 1.61609 to 1.60509, saving model to weights-improvement-28-1.6051-bigger.hdf5\n",
            "Epoch 29/100\n",
            "154810/154810 [==============================] - 128s 824us/step - loss: 1.5905\n",
            "\n",
            "Epoch 00029: loss improved from 1.60509 to 1.59054, saving model to weights-improvement-29-1.5905-bigger.hdf5\n",
            "Epoch 30/100\n",
            "154810/154810 [==============================] - 126s 814us/step - loss: 1.5790\n",
            "\n",
            "Epoch 00030: loss improved from 1.59054 to 1.57900, saving model to weights-improvement-30-1.5790-bigger.hdf5\n",
            "Epoch 31/100\n",
            "154810/154810 [==============================] - 125s 810us/step - loss: 1.5711\n",
            "\n",
            "Epoch 00031: loss improved from 1.57900 to 1.57110, saving model to weights-improvement-31-1.5711-bigger.hdf5\n",
            "Epoch 32/100\n",
            "154810/154810 [==============================] - 125s 809us/step - loss: 1.5575\n",
            "\n",
            "Epoch 00032: loss improved from 1.57110 to 1.55753, saving model to weights-improvement-32-1.5575-bigger.hdf5\n",
            "Epoch 33/100\n",
            "154810/154810 [==============================] - 125s 807us/step - loss: 1.5467\n",
            "\n",
            "Epoch 00033: loss improved from 1.55753 to 1.54670, saving model to weights-improvement-33-1.5467-bigger.hdf5\n",
            "Epoch 34/100\n",
            "154810/154810 [==============================] - 125s 807us/step - loss: 1.5363\n",
            "\n",
            "Epoch 00034: loss improved from 1.54670 to 1.53631, saving model to weights-improvement-34-1.5363-bigger.hdf5\n",
            "Epoch 35/100\n",
            "154810/154810 [==============================] - 125s 808us/step - loss: 1.5253\n",
            "\n",
            "Epoch 00035: loss improved from 1.53631 to 1.52535, saving model to weights-improvement-35-1.5253-bigger.hdf5\n",
            "Epoch 36/100\n",
            "154810/154810 [==============================] - 126s 811us/step - loss: 1.5161\n",
            "\n",
            "Epoch 00036: loss improved from 1.52535 to 1.51606, saving model to weights-improvement-36-1.5161-bigger.hdf5\n",
            "Epoch 37/100\n",
            "154810/154810 [==============================] - 125s 809us/step - loss: 1.5075\n",
            "\n",
            "Epoch 00037: loss improved from 1.51606 to 1.50754, saving model to weights-improvement-37-1.5075-bigger.hdf5\n",
            "Epoch 38/100\n",
            "154810/154810 [==============================] - 126s 811us/step - loss: 1.4977\n",
            "\n",
            "Epoch 00038: loss improved from 1.50754 to 1.49770, saving model to weights-improvement-38-1.4977-bigger.hdf5\n",
            "Epoch 39/100\n",
            "154810/154810 [==============================] - 125s 807us/step - loss: 1.4911\n",
            "\n",
            "Epoch 00039: loss improved from 1.49770 to 1.49106, saving model to weights-improvement-39-1.4911-bigger.hdf5\n",
            "Epoch 40/100\n",
            "154810/154810 [==============================] - 124s 803us/step - loss: 1.4801\n",
            "\n",
            "Epoch 00040: loss improved from 1.49106 to 1.48012, saving model to weights-improvement-40-1.4801-bigger.hdf5\n",
            "Epoch 41/100\n",
            "154810/154810 [==============================] - 125s 806us/step - loss: 1.4719\n",
            "\n",
            "Epoch 00041: loss improved from 1.48012 to 1.47188, saving model to weights-improvement-41-1.4719-bigger.hdf5\n",
            "Epoch 42/100\n",
            "154810/154810 [==============================] - 125s 806us/step - loss: 1.4668\n",
            "\n",
            "Epoch 00042: loss improved from 1.47188 to 1.46683, saving model to weights-improvement-42-1.4668-bigger.hdf5\n",
            "Epoch 43/100\n",
            "154810/154810 [==============================] - 125s 808us/step - loss: 1.4580\n",
            "\n",
            "Epoch 00043: loss improved from 1.46683 to 1.45805, saving model to weights-improvement-43-1.4580-bigger.hdf5\n",
            "Epoch 44/100\n",
            "154810/154810 [==============================] - 125s 807us/step - loss: 1.4510\n",
            "\n",
            "Epoch 00044: loss improved from 1.45805 to 1.45100, saving model to weights-improvement-44-1.4510-bigger.hdf5\n",
            "Epoch 45/100\n",
            "154810/154810 [==============================] - 125s 806us/step - loss: 1.4402\n",
            "\n",
            "Epoch 00045: loss improved from 1.45100 to 1.44017, saving model to weights-improvement-45-1.4402-bigger.hdf5\n",
            "Epoch 46/100\n",
            "154810/154810 [==============================] - 125s 808us/step - loss: 1.4351\n",
            "\n",
            "Epoch 00046: loss improved from 1.44017 to 1.43510, saving model to weights-improvement-46-1.4351-bigger.hdf5\n",
            "Epoch 47/100\n",
            "154810/154810 [==============================] - 125s 805us/step - loss: 1.4296\n",
            "\n",
            "Epoch 00047: loss improved from 1.43510 to 1.42964, saving model to weights-improvement-47-1.4296-bigger.hdf5\n",
            "Epoch 48/100\n",
            "154810/154810 [==============================] - 124s 802us/step - loss: 1.4234\n",
            "\n",
            "Epoch 00048: loss improved from 1.42964 to 1.42341, saving model to weights-improvement-48-1.4234-bigger.hdf5\n",
            "Epoch 49/100\n",
            "154810/154810 [==============================] - 124s 803us/step - loss: 1.4154\n",
            "\n",
            "Epoch 00049: loss improved from 1.42341 to 1.41539, saving model to weights-improvement-49-1.4154-bigger.hdf5\n",
            "Epoch 50/100\n",
            "154810/154810 [==============================] - 124s 799us/step - loss: 1.4075\n",
            "\n",
            "Epoch 00050: loss improved from 1.41539 to 1.40746, saving model to weights-improvement-50-1.4075-bigger.hdf5\n",
            "Epoch 51/100\n",
            "154810/154810 [==============================] - 124s 799us/step - loss: 1.4009\n",
            "\n",
            "Epoch 00051: loss improved from 1.40746 to 1.40089, saving model to weights-improvement-51-1.4009-bigger.hdf5\n",
            "Epoch 52/100\n",
            "154810/154810 [==============================] - 124s 798us/step - loss: 1.3983\n",
            "\n",
            "Epoch 00052: loss improved from 1.40089 to 1.39831, saving model to weights-improvement-52-1.3983-bigger.hdf5\n",
            "Epoch 53/100\n",
            "154810/154810 [==============================] - 123s 794us/step - loss: 1.3902\n",
            "\n",
            "Epoch 00053: loss improved from 1.39831 to 1.39021, saving model to weights-improvement-53-1.3902-bigger.hdf5\n",
            "Epoch 54/100\n",
            "154810/154810 [==============================] - 123s 795us/step - loss: 1.3854\n",
            "\n",
            "Epoch 00054: loss improved from 1.39021 to 1.38539, saving model to weights-improvement-54-1.3854-bigger.hdf5\n",
            "Epoch 55/100\n",
            "154810/154810 [==============================] - 123s 794us/step - loss: 1.3805\n",
            "\n",
            "Epoch 00055: loss improved from 1.38539 to 1.38053, saving model to weights-improvement-55-1.3805-bigger.hdf5\n",
            "Epoch 56/100\n",
            "154810/154810 [==============================] - 123s 794us/step - loss: 1.3745\n",
            "\n",
            "Epoch 00056: loss improved from 1.38053 to 1.37451, saving model to weights-improvement-56-1.3745-bigger.hdf5\n",
            "Epoch 57/100\n",
            "154810/154810 [==============================] - 123s 792us/step - loss: 1.3680\n",
            "\n",
            "Epoch 00057: loss improved from 1.37451 to 1.36800, saving model to weights-improvement-57-1.3680-bigger.hdf5\n",
            "Epoch 58/100\n",
            "154810/154810 [==============================] - 123s 792us/step - loss: 1.3629\n",
            "\n",
            "Epoch 00058: loss improved from 1.36800 to 1.36289, saving model to weights-improvement-58-1.3629-bigger.hdf5\n",
            "Epoch 59/100\n",
            "154810/154810 [==============================] - 123s 794us/step - loss: 1.3589\n",
            "\n",
            "Epoch 00059: loss improved from 1.36289 to 1.35894, saving model to weights-improvement-59-1.3589-bigger.hdf5\n",
            "Epoch 60/100\n",
            "154810/154810 [==============================] - 123s 792us/step - loss: 1.3526\n",
            "\n",
            "Epoch 00060: loss improved from 1.35894 to 1.35265, saving model to weights-improvement-60-1.3526-bigger.hdf5\n",
            "Epoch 61/100\n",
            "154810/154810 [==============================] - 123s 791us/step - loss: 1.3487\n",
            "\n",
            "Epoch 00061: loss improved from 1.35265 to 1.34870, saving model to weights-improvement-61-1.3487-bigger.hdf5\n",
            "Epoch 62/100\n",
            "154810/154810 [==============================] - 123s 792us/step - loss: 1.3435\n",
            "\n",
            "Epoch 00062: loss improved from 1.34870 to 1.34354, saving model to weights-improvement-62-1.3435-bigger.hdf5\n",
            "Epoch 63/100\n",
            "154810/154810 [==============================] - 123s 792us/step - loss: 1.3377\n",
            "\n",
            "Epoch 00063: loss improved from 1.34354 to 1.33769, saving model to weights-improvement-63-1.3377-bigger.hdf5\n",
            "Epoch 64/100\n",
            "154810/154810 [==============================] - 123s 792us/step - loss: 1.3338\n",
            "\n",
            "Epoch 00064: loss improved from 1.33769 to 1.33383, saving model to weights-improvement-64-1.3338-bigger.hdf5\n",
            "Epoch 65/100\n",
            "154810/154810 [==============================] - 122s 789us/step - loss: 1.3278\n",
            "\n",
            "Epoch 00065: loss improved from 1.33383 to 1.32781, saving model to weights-improvement-65-1.3278-bigger.hdf5\n",
            "Epoch 66/100\n",
            "154810/154810 [==============================] - 123s 792us/step - loss: 1.3243\n",
            "\n",
            "Epoch 00066: loss improved from 1.32781 to 1.32431, saving model to weights-improvement-66-1.3243-bigger.hdf5\n",
            "Epoch 67/100\n",
            "154810/154810 [==============================] - 122s 791us/step - loss: 1.3195\n",
            "\n",
            "Epoch 00067: loss improved from 1.32431 to 1.31946, saving model to weights-improvement-67-1.3195-bigger.hdf5\n",
            "Epoch 68/100\n",
            "154810/154810 [==============================] - 122s 791us/step - loss: 1.3333\n",
            "\n",
            "Epoch 00068: loss did not improve from 1.31946\n",
            "Epoch 69/100\n",
            "154810/154810 [==============================] - 120s 775us/step - loss: 1.3141\n",
            "\n",
            "Epoch 00069: loss improved from 1.31946 to 1.31411, saving model to weights-improvement-69-1.3141-bigger.hdf5\n",
            "Epoch 70/100\n",
            "154810/154810 [==============================] - 120s 777us/step - loss: 1.3069\n",
            "\n",
            "Epoch 00070: loss improved from 1.31411 to 1.30687, saving model to weights-improvement-70-1.3069-bigger.hdf5\n",
            "Epoch 71/100\n",
            "154810/154810 [==============================] - 120s 775us/step - loss: 1.3034\n",
            "\n",
            "Epoch 00071: loss improved from 1.30687 to 1.30343, saving model to weights-improvement-71-1.3034-bigger.hdf5\n",
            "Epoch 72/100\n",
            "154810/154810 [==============================] - 120s 773us/step - loss: 1.2999\n",
            "\n",
            "Epoch 00072: loss improved from 1.30343 to 1.29985, saving model to weights-improvement-72-1.2999-bigger.hdf5\n",
            "Epoch 73/100\n",
            "154810/154810 [==============================] - 120s 775us/step - loss: 1.2968\n",
            "\n",
            "Epoch 00073: loss improved from 1.29985 to 1.29676, saving model to weights-improvement-73-1.2968-bigger.hdf5\n",
            "Epoch 74/100\n",
            "154810/154810 [==============================] - 120s 774us/step - loss: 1.2918\n",
            "\n",
            "Epoch 00074: loss improved from 1.29676 to 1.29181, saving model to weights-improvement-74-1.2918-bigger.hdf5\n",
            "Epoch 75/100\n",
            "154810/154810 [==============================] - 120s 773us/step - loss: 1.2882\n",
            "\n",
            "Epoch 00075: loss improved from 1.29181 to 1.28824, saving model to weights-improvement-75-1.2882-bigger.hdf5\n",
            "Epoch 76/100\n",
            "154810/154810 [==============================] - 120s 774us/step - loss: 1.2874\n",
            "\n",
            "Epoch 00076: loss improved from 1.28824 to 1.28736, saving model to weights-improvement-76-1.2874-bigger.hdf5\n",
            "Epoch 77/100\n",
            "154810/154810 [==============================] - 120s 773us/step - loss: 1.2805\n",
            "\n",
            "Epoch 00077: loss improved from 1.28736 to 1.28051, saving model to weights-improvement-77-1.2805-bigger.hdf5\n",
            "Epoch 78/100\n",
            "154810/154810 [==============================] - 120s 775us/step - loss: 1.2799\n",
            "\n",
            "Epoch 00078: loss improved from 1.28051 to 1.27990, saving model to weights-improvement-78-1.2799-bigger.hdf5\n",
            "Epoch 79/100\n",
            "154810/154810 [==============================] - 120s 774us/step - loss: 1.2751\n",
            "\n",
            "Epoch 00079: loss improved from 1.27990 to 1.27506, saving model to weights-improvement-79-1.2751-bigger.hdf5\n",
            "Epoch 80/100\n",
            "154810/154810 [==============================] - 120s 774us/step - loss: 1.2735\n",
            "\n",
            "Epoch 00080: loss improved from 1.27506 to 1.27346, saving model to weights-improvement-80-1.2735-bigger.hdf5\n",
            "Epoch 81/100\n",
            "154810/154810 [==============================] - 120s 775us/step - loss: 1.2698\n",
            "\n",
            "Epoch 00081: loss improved from 1.27346 to 1.26984, saving model to weights-improvement-81-1.2698-bigger.hdf5\n",
            "Epoch 82/100\n",
            "154810/154810 [==============================] - 120s 775us/step - loss: 1.2668\n",
            "\n",
            "Epoch 00082: loss improved from 1.26984 to 1.26681, saving model to weights-improvement-82-1.2668-bigger.hdf5\n",
            "Epoch 83/100\n",
            "154810/154810 [==============================] - 120s 774us/step - loss: 1.2643\n",
            "\n",
            "Epoch 00083: loss improved from 1.26681 to 1.26432, saving model to weights-improvement-83-1.2643-bigger.hdf5\n",
            "Epoch 84/100\n",
            "154810/154810 [==============================] - 120s 774us/step - loss: 1.2578\n",
            "\n",
            "Epoch 00084: loss improved from 1.26432 to 1.25779, saving model to weights-improvement-84-1.2578-bigger.hdf5\n",
            "Epoch 85/100\n",
            "154810/154810 [==============================] - 120s 775us/step - loss: 1.2561\n",
            "\n",
            "Epoch 00085: loss improved from 1.25779 to 1.25608, saving model to weights-improvement-85-1.2561-bigger.hdf5\n",
            "Epoch 86/100\n",
            "154810/154810 [==============================] - 119s 772us/step - loss: 1.2551\n",
            "\n",
            "Epoch 00086: loss improved from 1.25608 to 1.25513, saving model to weights-improvement-86-1.2551-bigger.hdf5\n",
            "Epoch 87/100\n",
            "154810/154810 [==============================] - 120s 774us/step - loss: 1.2486\n",
            "\n",
            "Epoch 00087: loss improved from 1.25513 to 1.24861, saving model to weights-improvement-87-1.2486-bigger.hdf5\n",
            "Epoch 88/100\n",
            "154810/154810 [==============================] - 121s 785us/step - loss: 1.2448\n",
            "\n",
            "Epoch 00088: loss improved from 1.24861 to 1.24485, saving model to weights-improvement-88-1.2448-bigger.hdf5\n",
            "Epoch 89/100\n",
            "154810/154810 [==============================] - 124s 802us/step - loss: 1.2427\n",
            "\n",
            "Epoch 00089: loss improved from 1.24485 to 1.24271, saving model to weights-improvement-89-1.2427-bigger.hdf5\n",
            "Epoch 90/100\n",
            "154810/154810 [==============================] - 124s 803us/step - loss: 1.2400\n",
            "\n",
            "Epoch 00090: loss improved from 1.24271 to 1.24001, saving model to weights-improvement-90-1.2400-bigger.hdf5\n",
            "Epoch 91/100\n",
            "154810/154810 [==============================] - 124s 804us/step - loss: 1.2352\n",
            "\n",
            "Epoch 00091: loss improved from 1.24001 to 1.23520, saving model to weights-improvement-91-1.2352-bigger.hdf5\n",
            "Epoch 92/100\n",
            "154810/154810 [==============================] - 124s 802us/step - loss: 1.2351\n",
            "\n",
            "Epoch 00092: loss improved from 1.23520 to 1.23506, saving model to weights-improvement-92-1.2351-bigger.hdf5\n",
            "Epoch 93/100\n",
            "154810/154810 [==============================] - 124s 798us/step - loss: 1.2539\n",
            "\n",
            "Epoch 00093: loss did not improve from 1.23506\n",
            "Epoch 94/100\n",
            "154810/154810 [==============================] - 123s 796us/step - loss: 1.2280\n",
            "\n",
            "Epoch 00094: loss improved from 1.23506 to 1.22800, saving model to weights-improvement-94-1.2280-bigger.hdf5\n",
            "Epoch 95/100\n",
            "105984/154810 [===================>..........] - ETA: 39s - loss: 1.2145Buffered data was truncated after reaching the output size limit."
          ],
          "name": "stdout"
        }
      ]
    },
    {
      "cell_type": "code",
      "metadata": {
        "id": "xWgu6rcB9ViC",
        "colab_type": "code",
        "colab": {
          "base_uri": "https://localhost:8080/",
          "height": 104
        },
        "outputId": "0bd3fcbb-da5e-4814-a5ef-464124b2f4f0"
      },
      "source": [
        "# pick a random seed\n",
        "start = numpy.random.randint(0, len(dataX)-1)\n",
        "pattern = dataX[start]\n",
        "print (\"Seed:\")\n",
        "print (\"\\\"\", ''.join([int_to_char[value] for value in pattern]), \"\\\"\")\n",
        "# generate characters\n",
        "for i in range(500):\n",
        "\tx = numpy.reshape(pattern, (1, len(pattern), 1))\n",
        "\tx = x / float(n_vocab)\n",
        "\tprediction = model.predict(x, verbose=0)\n",
        "\tindex = numpy.argmax(prediction)\n",
        "\tresult = int_to_char[index]\n",
        "\tseq_in = [int_to_char[value] for value in pattern]\n",
        "\tsys.stdout.write(result)\n",
        "\tpattern.append(index)\n",
        "\tpattern = pattern[1:len(pattern)]\n",
        "print (\"\\nDone.\")"
      ],
      "execution_count": 10,
      "outputs": [
        {
          "output_type": "stream",
          "text": [
            "Seed:\n",
            "\" so much about a whiting before  i can tell you mor \"\n",
            "e said alice  i dont know it would not could not look att it said the dat and the three hardeners of the orher way she king harpen she had been looking at the hrrpe and she could not it would be growing and then the dormouse said the duchess and the doumd see it was and the three gardeners of the orosr of the words          how drtm both the ware stiel so she sro counte the words  wes aeginning to she said to herself i should think it was a doyr and she thought alice and he there was a little sa\n",
            "Done.\n"
          ],
          "name": "stdout"
        }
      ]
    },
    {
      "cell_type": "code",
      "metadata": {
        "id": "JKJ88Jdc9X4W",
        "colab_type": "code",
        "colab": {}
      },
      "source": [
        ""
      ],
      "execution_count": 0,
      "outputs": []
    }
  ]
}